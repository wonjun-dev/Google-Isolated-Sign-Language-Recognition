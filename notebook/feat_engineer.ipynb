{
 "cells": [
  {
   "cell_type": "code",
   "execution_count": 5,
   "metadata": {},
   "outputs": [],
   "source": [
    "import os\n",
    "ROOT_PATH = '/sources/dataset'\n",
    "VER = 'ver1'\n",
    "SAVE_PATH = os.path.join(ROOT_PATH, 'features', VER)\n",
    "os.makedirs(SAVE_PATH, exist_ok=True)\n",
    "\n",
    "description = \\\n",
    "    \"\"\" ver 1. \\n \n",
    "        얼굴 랜드마크:\n",
    "        LIP = [\n",
    "            61, 185, 40, 39, 37, 0, 267, 269, 270, 409,\n",
    "            291, 146, 91, 181, 84, 17, 314, 405, 321, 375,\n",
    "            78, 191, 80, 81, 82, 13, 312, 311, 310, 415,\n",
    "            95, 88, 178, 87, 14, 317, 402, 318, 324, 308,\n",
    "        ]\n",
    "\n",
    "        포즈 랜드마크: \n",
    "        사용 안함\n",
    "\n",
    "        손 랜드마크: 전부 사용\n",
    "\n",
    "        최종 데이터 형태: [max_len, 82, 3]\n",
    "\n",
    "        데이터 생성 파이프라인 요약\n",
    "        1. 전체 시간프레임에 대한 mean과 std로 normalization\n",
    "        2. nan -> 0\n",
    "        3. max length 만큼만 return\n",
    "    \"\"\"\n",
    "\n",
    "with open(os.path.join(ROOT_PATH, 'features', VER, 'description.txt'), 'w') as f:\n",
    "    f.write(description)"
   ]
  },
  {
   "cell_type": "code",
   "execution_count": 6,
   "metadata": {},
   "outputs": [],
   "source": [
    "import json\n",
    "import numpy as np\n",
    "import pandas as pd\n",
    "import torch\n",
    "import torch.nn as nn\n",
    "from scipy.ndimage import zoom\n",
    "from tqdm import tqdm"
   ]
  },
  {
   "cell_type": "code",
   "execution_count": 4,
   "metadata": {},
   "outputs": [],
   "source": [
    "ROWS_PER_FRAME = 543  # number of landmarks per frame\n",
    "\n",
    "def load_relevant_data_subset(pq_path):\n",
    "    data_columns = ['x', 'y', 'z']\n",
    "    data = pd.read_parquet(pq_path, columns=data_columns)\n",
    "    n_frames = int(len(data) / ROWS_PER_FRAME)\n",
    "    data = data.values.reshape(n_frames, ROWS_PER_FRAME, len(data_columns))\n",
    "    return data.astype(np.float32)"
   ]
  },
  {
   "attachments": {},
   "cell_type": "markdown",
   "metadata": {},
   "source": [
    "### Feature Generation class"
   ]
  },
  {
   "cell_type": "code",
   "execution_count": 17,
   "metadata": {},
   "outputs": [],
   "source": [
    "max_length = 80\n",
    "num_lm = 82\n",
    "\n",
    "class InputNet(nn.Module):\n",
    "    def __init__(self, ):\n",
    "        super().__init__()\n",
    "        self.max_length = max_length \n",
    "  \n",
    "    def forward(self, xyz):\n",
    "        xyz = xyz - xyz[~torch.isnan(xyz)].mean(0,keepdim=True) #noramlisation to common maen\n",
    "        xyz = xyz / xyz[~torch.isnan(xyz)].std(0, keepdim=True)\n",
    "\n",
    "        LIP = [\n",
    "            61, 185, 40, 39, 37, 0, 267, 269, 270, 409,\n",
    "            291, 146, 91, 181, 84, 17, 314, 405, 321, 375,\n",
    "            78, 191, 80, 81, 82, 13, 312, 311, 310, 415,\n",
    "            95, 88, 178, 87, 14, 317, 402, 318, 324, 308,\n",
    "        ]\n",
    "\n",
    "        lip = xyz[:, LIP]\n",
    "        lhand = xyz[:, 468:489]\n",
    "        rhand = xyz[:, 522:543]\n",
    "        xyz = torch.cat([  # (none, 82, 3)\n",
    "            lip,\n",
    "            lhand,\n",
    "            rhand,\n",
    "        ], 1)\n",
    "        xyz[torch.isnan(xyz)] = 0\n",
    "        x = xyz[:self.max_length]\n",
    "        return x\n",
    "\n",
    "feat_converter = InputNet()"
   ]
  },
  {
   "attachments": {},
   "cell_type": "markdown",
   "metadata": {},
   "source": [
    "### Convert raw data and save"
   ]
  },
  {
   "cell_type": "code",
   "execution_count": 28,
   "metadata": {},
   "outputs": [],
   "source": [
    "from tqdm import tqdm\n",
    "\n",
    "def convert_row(row, right_handed=True):\n",
    "    x = load_relevant_data_subset(os.path.join(ROOT_PATH, row.path))\n",
    "    x = torch.tensor(x, dtype=torch.float32)\n",
    "    x = feat_converter(x).cpu().numpy()\n",
    "    return x, row.label\n",
    "\n",
    "def convert_and_save_data():\n",
    "    df = pd.read_csv(os.path.join(ROOT_PATH, 'train.csv'))\n",
    "    label_map = json.load(open(os.path.join(ROOT_PATH, 'sign_to_prediction_index_map.json')))\n",
    "    df['label'] = df['sign'].map(label_map)\n",
    "\n",
    "    total = df.shape[0]\n",
    "\n",
    "    npdata = np.zeros((total, max_length, num_lm, 3))\n",
    "    nplabels = np.zeros(total)\n",
    "    nppids = np.zeros(total)\n",
    "\n",
    "    for i, row in tqdm(enumerate(df.itertuples()), total=total):\n",
    "        (x, y) = convert_row(row)\n",
    "        npdata[i, :x.shape[0]] = x\n",
    "        nplabels[i] = y\n",
    "        nppids[i] = int(row.participant_id)\n",
    "\n",
    "        if i == 1:\n",
    "            break\n",
    "        # if i == total - 1:\n",
    "        #     break\n",
    "    \n",
    "    # np.save(os.path.join(SAVE_PATH, 'feature_data.npy'), npdata)\n",
    "    # np.save(os.path.join(SAVE_PATH, 'feature_labels.npy'), nplabels)\n",
    "    # np.save(os.path.join(SAVE_PATH, 'participants.npy'), nppids)"
   ]
  },
  {
   "cell_type": "code",
   "execution_count": 29,
   "metadata": {},
   "outputs": [
    {
     "name": "stderr",
     "output_type": "stream",
     "text": [
      "  0%|          | 1/94477 [00:00<35:32, 44.30it/s]\n"
     ]
    }
   ],
   "source": [
    "convert_and_save_data()"
   ]
  },
  {
   "cell_type": "code",
   "execution_count": 30,
   "metadata": {},
   "outputs": [
    {
     "name": "stdout",
     "output_type": "stream",
     "text": [
      "(94477, 80, 82, 3) (94477,)\n",
      "(80, 82, 3) [[[ 0.53944099  0.29848355 -0.87295991]\n",
      "  [ 0.53821802  0.28912947 -0.90358984]\n",
      "  [ 0.54292607  0.27921778 -0.93584406]\n",
      "  ...\n",
      "  [ 0.05829294  0.36396381 -1.0776062 ]\n",
      "  [ 0.17296308  0.32440293 -1.10091221]\n",
      "  [ 0.28166935  0.32911116 -1.1148628 ]]\n",
      "\n",
      " [[ 0.5305692   0.3058185  -0.87093896]\n",
      "  [ 0.53642601  0.29671487 -0.90204638]\n",
      "  [ 0.54879284  0.28625819 -0.93556219]\n",
      "  ...\n",
      "  [ 0.12695304  0.29156283 -1.11008441]\n",
      "  [ 0.2557334   0.26448274 -1.13670397]\n",
      "  [ 0.37650952  0.27268359 -1.15147626]]\n",
      "\n",
      " [[ 0.51968706  0.31230304 -0.86367387]\n",
      "  [ 0.52490693  0.30063587 -0.89527011]\n",
      "  [ 0.53764594  0.28717068 -0.93001246]\n",
      "  ...\n",
      "  [ 0.19723418  0.27750027 -1.10325122]\n",
      "  [ 0.32734609  0.25656015 -1.13265097]\n",
      "  [ 0.44683465  0.26329887 -1.15792537]]\n",
      "\n",
      " ...\n",
      "\n",
      " [[ 0.          0.          0.        ]\n",
      "  [ 0.          0.          0.        ]\n",
      "  [ 0.          0.          0.        ]\n",
      "  ...\n",
      "  [ 0.          0.          0.        ]\n",
      "  [ 0.          0.          0.        ]\n",
      "  [ 0.          0.          0.        ]]\n",
      "\n",
      " [[ 0.          0.          0.        ]\n",
      "  [ 0.          0.          0.        ]\n",
      "  [ 0.          0.          0.        ]\n",
      "  ...\n",
      "  [ 0.          0.          0.        ]\n",
      "  [ 0.          0.          0.        ]\n",
      "  [ 0.          0.          0.        ]]\n",
      "\n",
      " [[ 0.          0.          0.        ]\n",
      "  [ 0.          0.          0.        ]\n",
      "  [ 0.          0.          0.        ]\n",
      "  ...\n",
      "  [ 0.          0.          0.        ]\n",
      "  [ 0.          0.          0.        ]\n",
      "  [ 0.          0.          0.        ]]]\n"
     ]
    }
   ],
   "source": [
    "X = np.load(os.path.join(SAVE_PATH, 'feature_data.npy'))\n",
    "y = np.load(os.path.join(SAVE_PATH, 'feature_labels.npy'))\n",
    "print(X.shape, y.shape)\n",
    "\n",
    "print(X[0, :].shape, X[0, :])"
   ]
  },
  {
   "cell_type": "code",
   "execution_count": null,
   "metadata": {},
   "outputs": [],
   "source": []
  }
 ],
 "metadata": {
  "kernelspec": {
   "display_name": "base",
   "language": "python",
   "name": "python3"
  },
  "language_info": {
   "codemirror_mode": {
    "name": "ipython",
    "version": 3
   },
   "file_extension": ".py",
   "mimetype": "text/x-python",
   "name": "python",
   "nbconvert_exporter": "python",
   "pygments_lexer": "ipython3",
   "version": "3.7.11"
  },
  "orig_nbformat": 4,
  "vscode": {
   "interpreter": {
    "hash": "d4d1e4263499bec80672ea0156c357c1ee493ec2b1c70f0acce89fc37c4a6abe"
   }
  }
 },
 "nbformat": 4,
 "nbformat_minor": 2
}
