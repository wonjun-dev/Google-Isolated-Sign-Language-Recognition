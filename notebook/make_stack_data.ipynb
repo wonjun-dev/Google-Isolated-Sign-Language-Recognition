{
 "cells": [
  {
   "cell_type": "code",
   "execution_count": 2,
   "metadata": {},
   "outputs": [],
   "source": [
    "import os\n",
    "import time\n",
    "from tqdm import tqdm\n",
    "import torch\n",
    "import torch.nn as nn\n",
    "import torch.nn.functional as F\n",
    "import torch.backends.cudnn as cudnn\n",
    "import pandas as pd\n",
    "import numpy as np\n",
    "from collections import OrderedDict\n",
    "\n",
    "from model import ISLRModelV6, ISLRModelArcFaceCE\n",
    "from dataset import ISLRDataSetV2, collate_func\n",
    "\n",
    "os.environ[\"CUDA_DEVICE_ORDER\"] = \"PCI_BUS_ID\"\n",
    "os.environ[\"CUDA_VISIBLE_DEVICES\"] = \"2\""
   ]
  },
  {
   "cell_type": "code",
   "execution_count": 31,
   "metadata": {},
   "outputs": [],
   "source": [
    "cur_fold = 4\n",
    "val_idx = np.load(os.path.join('/sources/dataset', \"cv\", f\"val_idx_f{cur_fold}.npy\"))\n",
    "dataset = ISLRDataSetV2(\n",
    "            max_len=64,\n",
    "            ver='v0_93',\n",
    "            indicies=val_idx,\n",
    "            random_noise=False,\n",
    "            flip_x=False,\n",
    "            flip_x_v2=False,\n",
    "            rotate=False,\n",
    "            drop_lm=False,\n",
    "            interpolate=False,\n",
    "        )\n",
    "dataloader = torch.utils.data.DataLoader(\n",
    "            dataset,\n",
    "            batch_size=64,\n",
    "            shuffle=False,\n",
    "            num_workers=4,\n",
    "            pin_memory=False,\n",
    "            collate_fn=collate_func,\n",
    "        )\n"
   ]
  },
  {
   "cell_type": "code",
   "execution_count": 32,
   "metadata": {},
   "outputs": [],
   "source": [
    "model = ISLRModelArcFaceCE(\n",
    "                embed_dim=256,\n",
    "                n_head=4,\n",
    "                ff_dim=256,\n",
    "                dropout=0.2,\n",
    "                cls_dropout=0.2,\n",
    "                max_len=64,\n",
    "                n_layers=5,\n",
    "                input_dim=1194,\n",
    "                s=32.0,\n",
    "                m=0.2,\n",
    "                k=3)\n",
    "\n",
    "trained_state_dict = torch.load(f'/sources/ckpts/test-arcface-ce-sd-ab1002-m02/2023-04-28T00-44-27/{cur_fold}/best.pth.tar')[\"state_dict\"]\n",
    "new_state_dict = OrderedDict()\n",
    "for k, v in trained_state_dict.items():\n",
    "    name = k\n",
    "    if \"module\" in name:\n",
    "        name = name.replace(\"module.\", \"\")\n",
    "    new_state_dict[name] = v\n",
    "model.load_state_dict(new_state_dict)\n",
    "model.eval()\n",
    "\n",
    "try:\n",
    "    model = nn.DataParallel(model).cuda()\n",
    "except:\n",
    "    model = model.cuda()\n",
    "cudnn.benchmark = True\n"
   ]
  },
  {
   "cell_type": "code",
   "execution_count": 33,
   "metadata": {},
   "outputs": [
    {
     "name": "stderr",
     "output_type": "stream",
     "text": [
      "280it [01:16,  3.64it/s]\n"
     ]
    }
   ],
   "source": [
    "model.eval()\n",
    "preds = []\n",
    "labels = []\n",
    "\n",
    "with torch.no_grad():\n",
    "    for idx, batch in tqdm(enumerate(dataloader)):\n",
    "        y = batch['label']\n",
    "        output = model(batch)\n",
    "        logit = 0.84 * output[0] + 0.16 * output[1]\n",
    "        output = F.softmax(logit, dim=-1)\n",
    "\n",
    "        preds.extend(output.detach().tolist())\n",
    "        labels.extend(y.tolist())"
   ]
  },
  {
   "cell_type": "code",
   "execution_count": 34,
   "metadata": {},
   "outputs": [
    {
     "data": {
      "text/plain": [
       "17884"
      ]
     },
     "execution_count": 34,
     "metadata": {},
     "output_type": "execute_result"
    }
   ],
   "source": [
    "len(preds)"
   ]
  },
  {
   "cell_type": "code",
   "execution_count": 35,
   "metadata": {},
   "outputs": [],
   "source": [
    "np.save(f'/sources/dataset/stack/arcface/X_fold{cur_fold}', preds)\n",
    "np.save(f'/sources/dataset/stack/arcface/y_fold{cur_fold}', labels)"
   ]
  },
  {
   "cell_type": "code",
   "execution_count": 36,
   "metadata": {},
   "outputs": [
    {
     "data": {
      "text/plain": [
       "17884"
      ]
     },
     "execution_count": 36,
     "metadata": {},
     "output_type": "execute_result"
    }
   ],
   "source": [
    "len(labels)"
   ]
  },
  {
   "cell_type": "code",
   "execution_count": 38,
   "metadata": {},
   "outputs": [
    {
     "data": {
      "text/plain": [
       "250"
      ]
     },
     "execution_count": 38,
     "metadata": {},
     "output_type": "execute_result"
    }
   ],
   "source": [
    "len(preds[0])"
   ]
  },
  {
   "cell_type": "code",
   "execution_count": null,
   "metadata": {},
   "outputs": [],
   "source": []
  }
 ],
 "metadata": {
  "kernelspec": {
   "display_name": "base",
   "language": "python",
   "name": "python3"
  },
  "language_info": {
   "codemirror_mode": {
    "name": "ipython",
    "version": 3
   },
   "file_extension": ".py",
   "mimetype": "text/x-python",
   "name": "python",
   "nbconvert_exporter": "python",
   "pygments_lexer": "ipython3",
   "version": "3.7.11"
  },
  "orig_nbformat": 4
 },
 "nbformat": 4,
 "nbformat_minor": 2
}
